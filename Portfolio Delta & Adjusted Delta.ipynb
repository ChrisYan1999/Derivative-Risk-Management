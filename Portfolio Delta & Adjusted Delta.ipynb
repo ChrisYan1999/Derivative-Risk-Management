{
 "cells": [
  {
   "cell_type": "code",
   "execution_count": 34,
   "metadata": {},
   "outputs": [
    {
     "name": "stderr",
     "output_type": "stream",
     "text": [
      "[*********************100%%**********************]  4 of 4 completed"
     ]
    },
    {
     "name": "stdout",
     "output_type": "stream",
     "text": [
      "Deltas of the portfolio: {'GOOGL': 30000000, 'AAPL': 30000000, 'JPM': 40000000}\n",
      "Portfolio delta: 100000000\n",
      "Adjusted deltas of each stock:\n",
      "GOOGL: 43614477.607407406\n",
      "AAPL: 37815682.80413944\n",
      "JPM: 33243088.335200492\n",
      "SPX-beta adjusted delta of the portfolio: 114673248.74674734\n"
     ]
    },
    {
     "name": "stderr",
     "output_type": "stream",
     "text": [
      "\n"
     ]
    }
   ],
   "source": [
    "import pandas as pd\n",
    "import yfinance as yf\n",
    "\n",
    "stocks = ['GOOGL', 'AAPL', 'JPM', '^SPX']\n",
    "start_date = pd.Timestamp.now() - pd.DateOffset(months=2)\n",
    "end_date = pd.Timestamp.now()\n",
    "\n",
    "# Download adjusted close prices\n",
    "data = yf.download(stocks, start=start_date, end=end_date)['Adj Close']\n",
    "\n",
    "# Calculate daily returns\n",
    "returns = data.pct_change().dropna()\n",
    "\n",
    "# Calculate standard deviations and correlation\n",
    "std_devs = returns.std()\n",
    "correlation_matrix = returns.corr()\n",
    "\n",
    "# Calculate betas of the stocks against SPX\n",
    "betas = {}\n",
    "for stock in stocks[:-1]:\n",
    "    beta = (std_devs[stock] / std_devs['^SPX']) * correlation_matrix.loc[stock, '^SPX']\n",
    "    betas[stock] = beta\n",
    "\n",
    "# Define deltas for the stocks\n",
    "deltas = {'GOOGL': 30000000, 'AAPL': 30000000, 'JPM': 40000000}\n",
    "portfolio_delta = sum(deltas.values())\n",
    "\n",
    "# Calculate SPX-beta adjusted delta of the portfolio\n",
    "beta_adjusted_delta = 0\n",
    "adjusted_deltas = {}\n",
    "for stock, delta in deltas.items():\n",
    "    adjusted_delta = delta * betas[stock]\n",
    "    adjusted_deltas[stock] = adjusted_delta\n",
    "    beta_adjusted_delta += adjusted_delta\n",
    "\n",
    "print(\"Deltas of the portfolio:\", deltas)\n",
    "print(\"Portfolio delta:\", portfolio_delta)\n",
    "print(\"Adjusted deltas of each stock:\")\n",
    "for stock, adjusted_delta in adjusted_deltas.items():\n",
    "    print(f\"{stock}: {adjusted_delta}\")\n",
    "print(\"SPX-beta adjusted delta of the portfolio:\", beta_adjusted_delta)"
   ]
  }
 ],
 "metadata": {
  "kernelspec": {
   "display_name": "base",
   "language": "python",
   "name": "python3"
  },
  "language_info": {
   "codemirror_mode": {
    "name": "ipython",
    "version": 3
   },
   "file_extension": ".py",
   "mimetype": "text/x-python",
   "name": "python",
   "nbconvert_exporter": "python",
   "pygments_lexer": "ipython3",
   "version": "3.11.7"
  }
 },
 "nbformat": 4,
 "nbformat_minor": 2
}
