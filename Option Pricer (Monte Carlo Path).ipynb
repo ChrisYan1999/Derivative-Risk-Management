{
 "cells": [
  {
   "cell_type": "code",
   "execution_count": 21,
   "metadata": {},
   "outputs": [
    {
     "name": "stdout",
     "output_type": "stream",
     "text": [
      "The estimated Delta for the 1Y call option with 120% strike is 18.7322\n",
      "The estimated Gamma for the 1Y call option with 120% strike is -4.3395\n",
      "The estimated Vega for the 1Y call option with 120% strike is 16.6755\n"
     ]
    }
   ],
   "source": [
    "import numpy as np\n",
    "\n",
    "def MCpath(S0, r, sigma, n_steps, T):\n",
    "    r_daily = r / n_steps\n",
    "    sigma_daily = sigma / np.sqrt(n_steps)\n",
    "    price = np.zeros((n_steps + 1,))\n",
    "    price[0] = S0\n",
    "    for t in range(1, n_steps + 1):\n",
    "        dX = np.random.normal(0, 1)\n",
    "        dS = price[t-1] * (r_daily + sigma_daily * dX)\n",
    "        price[t] = price[t-1] + dS\n",
    "    return price\n",
    "\n",
    "def Pricer(S0, K, r, sigma, n_paths, n_steps, T):\n",
    "    payoffs = np.zeros(n_paths)\n",
    "    for i in range(n_paths):\n",
    "        paths = MCpath(S0, r, sigma, n_steps, T)\n",
    "        Price_T = paths[-1]\n",
    "        payoffs[i] = max(Price_T - K, 0)\n",
    "    call_price = np.mean(payoffs)\n",
    "    return call_price\n",
    "\n",
    "def calculate_delta(S, K, r, sigma, n_paths, n_steps, T):\n",
    "    P_S = Pricer(S, K, r, sigma, n_paths, n_steps, T)\n",
    "    P_S1 = Pricer(S * 1.01, K, r, sigma, n_paths, n_steps, T)\n",
    "    delta = 100 * (P_S1 - P_S)\n",
    "    return delta\n",
    "\n",
    "def calculate_gamma(S, K, r, sigma, n_paths, n_steps, T):\n",
    "    delta_S = calculate_delta(S, K, r, sigma, n_paths, n_steps, T)\n",
    "    delta_S1 = calculate_delta(S * 1.01, K, r, sigma, n_paths, n_steps, T)\n",
    "    gamma = delta_S1 - delta_S\n",
    "    return gamma\n",
    "\n",
    "def calculate_vega(S, K, r, sigma, n_paths, n_steps, T):\n",
    "    P_Sigma = Pricer(S, K, r, sigma, n_paths, n_steps, T)\n",
    "    P_Sigma1 = Pricer(S, K, r, sigma + 0.01, n_paths, n_steps, T)\n",
    "    vega = (P_Sigma1 - P_Sigma) / 0.01\n",
    "    return vega\n",
    "# Parameters\n",
    "S0 = 100\n",
    "K = 120\n",
    "r = 0\n",
    "n_paths = 10000\n",
    "n_steps = 252\n",
    "sigma = 0.16\n",
    "T = 1\n",
    "\n",
    "delta = calculate_delta(S0, K, r, sigma, n_paths, n_steps, T)\n",
    "gamma = calculate_gamma(S0, K, r, sigma, n_paths, n_steps, T)\n",
    "vega = calculate_vega(S0, K, r, sigma, n_paths, n_steps, T)\n",
    "\n",
    "print(f\"The estimated Delta for the 1Y call option with 120% strike is {delta:.4f}\")\n",
    "print(f\"The estimated Gamma for the 1Y call option with 120% strike is {gamma:.4f}\")\n",
    "print(f\"The estimated Vega for the 1Y call option with 120% strike is {vega:.4f}\")\n"
   ]
  },
  {
   "cell_type": "code",
   "execution_count": 15,
   "metadata": {},
   "outputs": [
    {
     "name": "stdout",
     "output_type": "stream",
     "text": [
      "The estimated Gamma 30 days prior to maturity is -3.4867\n",
      "The estimated Gamma 10 days prior to maturity is 7.9040\n"
     ]
    }
   ],
   "source": [
    "# Question 2\n",
    "T_30_days = 30 / 252\n",
    "T_10_days = 10 / 252\n",
    "\n",
    "gamma_30_days = calculate_gamma(S0, K, r, sigma, n_paths, n_steps, T_30_days)\n",
    "gamma_10_days = calculate_gamma(S0, K, r, sigma, n_paths, n_steps, T_10_days)\n",
    "\n",
    "print(f\"The estimated Gamma 30 days prior to maturity is {gamma_30_days:.4f}\")\n",
    "print(f\"The estimated Gamma 10 days prior to maturity is {gamma_10_days:.4f}\")"
   ]
  }
 ],
 "metadata": {
  "kernelspec": {
   "display_name": "base",
   "language": "python",
   "name": "python3"
  },
  "language_info": {
   "codemirror_mode": {
    "name": "ipython",
    "version": 3
   },
   "file_extension": ".py",
   "mimetype": "text/x-python",
   "name": "python",
   "nbconvert_exporter": "python",
   "pygments_lexer": "ipython3",
   "version": "3.11.7"
  }
 },
 "nbformat": 4,
 "nbformat_minor": 2
}
