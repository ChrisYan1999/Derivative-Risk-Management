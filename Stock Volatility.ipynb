{
 "cells": [
  {
   "cell_type": "code",
   "execution_count": 2,
   "metadata": {},
   "outputs": [
    {
     "name": "stderr",
     "output_type": "stream",
     "text": [
      "[*********************100%%**********************]  1 of 1 completed"
     ]
    },
    {
     "name": "stdout",
     "output_type": "stream",
     "text": [
      "The annual volatility for TELL is 124.12%\n"
     ]
    },
    {
     "name": "stderr",
     "output_type": "stream",
     "text": [
      "\n"
     ]
    }
   ],
   "source": [
    "import yfinance as yf\n",
    "import numpy as np\n",
    "\n",
    "def calculate_annual_volatility(ticker, period='1y'):\n",
    "    # Fetch historical data for the specified period\n",
    "    stock_data = yf.download(ticker, period=period)\n",
    "    \n",
    "    # Calculate daily returns\n",
    "    stock_data['Returns'] = stock_data['Adj Close'].pct_change()\n",
    "    \n",
    "    # Calculate daily volatility (standard deviation of daily returns)\n",
    "    daily_volatility = np.std(stock_data['Returns'].dropna())\n",
    "    \n",
    "    # Annualize the daily volatility\n",
    "    annual_volatility = daily_volatility * np.sqrt(252)  # Assuming 252 trading days in a year\n",
    "    \n",
    "    return annual_volatility\n",
    "\n",
    "# Example usage\n",
    "ticker = 'TELL'  # Replace with your desired stock ticker\n",
    "volatility = calculate_annual_volatility(ticker)\n",
    "print(f\"The annual volatility for {ticker} is {volatility:.2%}\")\n"
   ]
  }
 ],
 "metadata": {
  "kernelspec": {
   "display_name": "base",
   "language": "python",
   "name": "python3"
  },
  "language_info": {
   "codemirror_mode": {
    "name": "ipython",
    "version": 3
   },
   "file_extension": ".py",
   "mimetype": "text/x-python",
   "name": "python",
   "nbconvert_exporter": "python",
   "pygments_lexer": "ipython3",
   "version": "3.11.7"
  }
 },
 "nbformat": 4,
 "nbformat_minor": 2
}
